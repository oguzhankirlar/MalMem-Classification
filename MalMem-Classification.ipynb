{
  "cells": [
    {
      "cell_type": "code",
      "execution_count": null,
      "metadata": {
        "id": "toxXZ30m4pTQ"
      },
      "outputs": [],
      "source": [
        "# Temel kütüphaneler\n",
        "import numpy as np\n",
        "import pandas as pd\n",
        "\n",
        "# Görselleştirme kütüphaneleri\n",
        "import matplotlib.pyplot as plt\n",
        "import seaborn as sns\n",
        "\n",
        "# Veri işleme ve ölçekleme\n",
        "from sklearn.preprocessing import StandardScaler\n",
        "from scipy.stats import zscore\n",
        "\n",
        "# Model değerlendirme ve bölme\n",
        "from sklearn.model_selection import train_test_split, GridSearchCV, RandomizedSearchCV\n",
        "from sklearn.metrics import (\n",
        "    accuracy_score, precision_score, recall_score, f1_score,\n",
        "    confusion_matrix, classification_report\n",
        ")\n",
        "\n",
        "# Makine öğrenmesi modelleri\n",
        "from sklearn.neighbors import KNeighborsClassifier\n",
        "from sklearn.ensemble import RandomForestClassifier, GradientBoostingClassifier\n",
        "from sklearn.svm import SVC\n",
        "from sklearn.linear_model import LogisticRegression\n",
        "from sklearn.tree import DecisionTreeClassifier, export_graphviz\n",
        "import xgboost as xgb\n",
        "\n",
        "# TensorFlow ve Keras\n",
        "import tensorflow as tf\n",
        "from tensorflow.keras.models import Sequential\n",
        "from tensorflow.keras.layers import Dense, Dropout\n",
        "from tensorflow.keras.callbacks import EarlyStopping\n",
        "\n",
        "# Ekstra kütüphaneler\n",
        "import re"
      ]
    },
    {
      "cell_type": "code",
      "execution_count": null,
      "metadata": {
        "id": "8ng6BXEe4s9v"
      },
      "outputs": [],
      "source": [
        "original_df = pd.read_csv(\"/content/sample_data/Obfuscated-MalMem2022.csv\")\n",
        "original_df.shape"
      ]
    },
    {
      "cell_type": "code",
      "source": [
        "print(\"Veri Seti Bilgileri:\")\n",
        "print(original_df.info())"
      ],
      "metadata": {
        "id": "chcHf-Hd-bA0"
      },
      "execution_count": null,
      "outputs": []
    },
    {
      "cell_type": "code",
      "source": [
        "print(\"\\nVeri Seti Tanımlayıcı İstatistikleri:\")\n",
        "print(original_df.describe())"
      ],
      "metadata": {
        "id": "RdLuyMS_-bjM"
      },
      "execution_count": null,
      "outputs": []
    },
    {
      "cell_type": "code",
      "source": [
        "print(\"\\nİlk Beş Kayıt:\")\n",
        "print(original_df.head())"
      ],
      "metadata": {
        "id": "Qv0bjz5k-dYN"
      },
      "execution_count": null,
      "outputs": []
    },
    {
      "cell_type": "code",
      "execution_count": null,
      "metadata": {
        "id": "11WZ-_iu4tIn"
      },
      "outputs": [],
      "source": [
        "def find_category(column):\n",
        "    if \"-\" in column:\n",
        "        category = column.split(\"-\")[0]\n",
        "        return category\n",
        "    else:\n",
        "        return column"
      ]
    },
    {
      "cell_type": "code",
      "execution_count": null,
      "metadata": {
        "id": "EKhAa0SB4tK-"
      },
      "outputs": [],
      "source": [
        "def find_category_name(column):\n",
        "    if \"-\" in column:\n",
        "        category_name = column.split(\"-\")[1]\n",
        "        return category_name\n",
        "    else:\n",
        "        return column"
      ]
    },
    {
      "cell_type": "code",
      "execution_count": null,
      "metadata": {
        "id": "vEXnTgTZgNMC"
      },
      "outputs": [],
      "source": [
        "df = original_df.copy()\n",
        "df.shape"
      ]
    },
    {
      "cell_type": "code",
      "execution_count": null,
      "metadata": {
        "id": "nB9WcDVEgNQK"
      },
      "outputs": [],
      "source": [
        "# Check if all values in each column are identical\n",
        "for column in df.columns:\n",
        "    if df[column].nunique() == 1:\n",
        "        print(f\"All values in {column} are identical.\")"
      ]
    },
    {
      "cell_type": "code",
      "execution_count": null,
      "metadata": {
        "id": "jbsGSY0tgNSL"
      },
      "outputs": [],
      "source": [
        "# drop identical columns\n",
        "# List of columns to drop\n",
        "columns_to_drop = ['pslist.nprocs64bit', 'handles.nport', 'svcscan.interactive_process_services']\n",
        "\n",
        "# Drop the specified columns\n",
        "df.drop(columns=columns_to_drop, inplace=True)"
      ]
    },
    {
      "cell_type": "code",
      "execution_count": null,
      "metadata": {
        "id": "xW8F9IvggNUO"
      },
      "outputs": [],
      "source": [
        "missing_values_by_column = df.isnull().sum()\n",
        "\n",
        "if missing_values_by_column.sum() == 0:\n",
        "    print(\"\\nThere is no missing values in dataset\")\n",
        "else:\n",
        "    print(\"\\nNumber of missing values by Column:\")\n",
        "    print(missing_values_by_column)"
      ]
    },
    {
      "cell_type": "code",
      "execution_count": null,
      "metadata": {
        "id": "HiVYm93-gNWe"
      },
      "outputs": [],
      "source": [
        "# Print the number of duplicate rows\n",
        "print(\"\\nNumber of Duplicate Rows:\", df.duplicated().sum())\n",
        "\n",
        "# Removing Duplicates\n",
        "df.drop_duplicates(inplace=True)"
      ]
    },
    {
      "cell_type": "code",
      "execution_count": null,
      "metadata": {
        "id": "XZNoQF7IgNYh"
      },
      "outputs": [],
      "source": [
        "# Data Type Conversion\n",
        "df[\"Class\"] = df[\"Class\"].astype(\"category\")\n",
        "\n",
        "# Handling Categorical Data (One-Hot Encoding)\n",
        "df = pd.get_dummies(df, columns=[\"Class\"], drop_first=True)"
      ]
    },
    {
      "cell_type": "code",
      "execution_count": null,
      "metadata": {
        "id": "SHjSNLAcgNfF"
      },
      "outputs": [],
      "source": [
        "df['category_name'] = 'Unknown'\n",
        "df['subcategory_name'] = 'Unknown'\n",
        "df['category_name'] = df['Category'].apply(find_category)\n",
        "df['subcategory_name'] = df['Category'].apply(find_category_name)"
      ]
    },
    {
      "cell_type": "code",
      "source": [
        "df[\"category_name\"].value_counts()"
      ],
      "metadata": {
        "id": "Kt37H60h_TV5"
      },
      "execution_count": null,
      "outputs": []
    },
    {
      "cell_type": "code",
      "source": [
        "sns.countplot(x=df[\"category_name\"])"
      ],
      "metadata": {
        "id": "K6ztEeJf_Xbr"
      },
      "execution_count": null,
      "outputs": []
    },
    {
      "cell_type": "code",
      "source": [
        "df[\"category_name\"].value_counts().plot(kind=\"pie\", autopct=\"%.2f%%\")\n"
      ],
      "metadata": {
        "id": "RhNkfWdV_XZL"
      },
      "execution_count": null,
      "outputs": []
    },
    {
      "cell_type": "code",
      "source": [
        "df[\"subcategory_name\"].value_counts()"
      ],
      "metadata": {
        "id": "zVp5Yuha_XW8"
      },
      "execution_count": null,
      "outputs": []
    },
    {
      "cell_type": "code",
      "source": [
        "plt.figure()\n",
        "sns.countplot(x=df[\"subcategory_name\"])\n",
        "plt.xticks(rotation=90)\n",
        "plt.show()"
      ],
      "metadata": {
        "id": "-6tES6_2_XUd"
      },
      "execution_count": null,
      "outputs": []
    },
    {
      "cell_type": "code",
      "source": [
        "df[\"subcategory_name\"].value_counts().plot(kind=\"pie\", autopct=\"%.2f%%\")"
      ],
      "metadata": {
        "id": "9gOlrrps_i-Z"
      },
      "execution_count": null,
      "outputs": []
    },
    {
      "cell_type": "code",
      "execution_count": null,
      "metadata": {
        "id": "10CiI3zogNhZ"
      },
      "outputs": [],
      "source": [
        "CE_df = df.copy(deep=True)"
      ]
    },
    {
      "cell_type": "code",
      "execution_count": null,
      "metadata": {
        "id": "A_ieDwu6gN80"
      },
      "outputs": [],
      "source": [
        "# Ortalama iş parçacığı ve işleyici sayısını belirleyin\n",
        "CE_df['avg_threads_handlers'] = CE_df['pslist.avg_threads'] + CE_df['pslist.avg_handlers']"
      ]
    },
    {
      "cell_type": "code",
      "execution_count": null,
      "metadata": {
        "id": "efryTHJHgN_E"
      },
      "outputs": [],
      "source": [
        "# Toplam handle sayısını belirleyin\n",
        "CE_df['total_handles'] = CE_df[\n",
        "    [#'handles.nport',#\n",
        "     'handles.nfile', 'handles.nevent', 'handles.ndesktop', 'handles.nkey',\n",
        "     'handles.nthread', 'handles.ndirectory', 'handles.nsemaphore', 'handles.ntimer',\n",
        "     'handles.nsection', 'handles.nmutant']\n",
        "].sum(axis=1)"
      ]
    },
    {
      "cell_type": "code",
      "execution_count": null,
      "metadata": {
        "id": "vKxe5wmTgOBB"
      },
      "outputs": [],
      "source": [
        "# Ortalama yüklenmeyen modülleri belirleyin\n",
        "CE_df['average_not_loaded_modules'] = CE_df[\n",
        "    ['ldrmodules.not_in_load', 'ldrmodules.not_in_init', 'ldrmodules.not_in_mem']\n",
        "].mean(axis=1)"
      ]
    },
    {
      "cell_type": "code",
      "execution_count": null,
      "metadata": {
        "id": "4IwJV98GgODM"
      },
      "outputs": [],
      "source": [
        "# Görünmeyen işlemlerin toplamını belirleyin\n",
        "CE_df['total_hidden_processes'] = CE_df[\n",
        "    ['psxview.not_in_pslist', 'psxview.not_in_eprocess_pool', 'psxview.not_in_ethread_pool',\n",
        "     'psxview.not_in_pspcid_list', 'psxview.not_in_csrss_handles', 'psxview.not_in_session',\n",
        "     'psxview.not_in_deskthrd']\n",
        "].sum(axis=1)"
      ]
    },
    {
      "cell_type": "code",
      "execution_count": null,
      "metadata": {
        "id": "rpbgAvW1gOFD"
      },
      "outputs": [],
      "source": [
        "# Hesaplamalarda kullanılan kolonları çıkarın\n",
        "columns_to_drop = [\n",
        "    'pslist.nproc', 'pslist.avg_threads', 'pslist.avg_handlers',\n",
        "    'handles.nfile','handles.nevent', 'handles.ndesktop', 'handles.nkey',\n",
        "    'handles.nthread', 'handles.ndirectory', 'handles.nsemaphore', 'handles.ntimer',\n",
        "    'handles.nsection', 'handles.nmutant',\n",
        "    'ldrmodules.not_in_load', 'ldrmodules.not_in_init', 'ldrmodules.not_in_mem',\n",
        "    'psxview.not_in_pslist', 'psxview.not_in_eprocess_pool', 'psxview.not_in_ethread_pool',\n",
        "    'psxview.not_in_pspcid_list', 'psxview.not_in_csrss_handles', 'psxview.not_in_session',\n",
        "    'psxview.not_in_deskthrd'\n",
        "]\n",
        "#'handles.nport','pslist.nprocs64bit',\n",
        "CE_df.drop(columns=columns_to_drop, inplace=True)"
      ]
    },
    {
      "cell_type": "code",
      "execution_count": null,
      "metadata": {
        "id": "fA5zrAjHyUuu"
      },
      "outputs": [],
      "source": [
        "CE_df.info()"
      ]
    },
    {
      "cell_type": "code",
      "source": [
        "def split_data(X, y):\n",
        "    y_mapped = y.map({x: i for i, x in enumerate(y.unique())})\n",
        "    X_train_val, X_test, y_train_val, y_test = train_test_split(X, y_mapped, test_size=0.2, random_state=1)\n",
        "    X_train, X_val, y_train, y_val = train_test_split(X_train_val, y_train_val, test_size=0.25, random_state=1)\n",
        "    return X_train, X_val, X_test, y_train, y_val, y_test"
      ],
      "metadata": {
        "id": "q5HoiL1u5pO5"
      },
      "execution_count": null,
      "outputs": []
    },
    {
      "cell_type": "code",
      "source": [
        "def print_classification_report(model_name, val_accuracy, val_report, test_accuracy, test_report):\n",
        "    print(f\"{model_name} - Validation Accuracy: {val_accuracy:.4f}\")\n",
        "    print(f\"{model_name} - Validation Precision: {val_report['weighted avg']['precision']:.4f}\")\n",
        "    print(f\"{model_name} - Validation Recall: {val_report['weighted avg']['recall']:.4f}\")\n",
        "    print(f\"{model_name} - Validation F1 Score: {val_report['weighted avg']['f1-score']:.4f}\")\n",
        "\n",
        "    print(f\"{model_name} - Test Accuracy: {test_accuracy:.4f}\")\n",
        "    print(f\"{model_name} - Test Precision: {test_report['weighted avg']['precision']:.4f}\")\n",
        "    print(f\"{model_name} - Test Recall: {test_report['weighted avg']['recall']:.4f}\")\n",
        "    print(f\"{model_name} - Test F1 Score: {test_report['weighted avg']['f1-score']:.4f}\")\n"
      ],
      "metadata": {
        "id": "WVRa1COH6glv"
      },
      "execution_count": null,
      "outputs": []
    },
    {
      "cell_type": "code",
      "source": [
        "def plot_confusion_matrices(val_conf_matrix, test_conf_matrix, model_name, labels):\n",
        "    plt.figure(figsize=(12, 5))\n",
        "\n",
        "    plt.subplot(1, 2, 1)\n",
        "    sns.heatmap(val_conf_matrix, annot=True, cmap='Blues', fmt='g', xticklabels=labels, yticklabels=labels)\n",
        "    plt.title(f'{model_name} - Validation Confusion Matrix')\n",
        "    plt.xlabel('Predicted')\n",
        "    plt.ylabel('Actual')\n",
        "\n",
        "    plt.subplot(1, 2, 2)\n",
        "    sns.heatmap(test_conf_matrix, annot=True, cmap='Blues', fmt='g', xticklabels=labels, yticklabels=labels)\n",
        "    plt.title(f'{model_name} - Test Confusion Matrix')\n",
        "    plt.xlabel('Predicted')\n",
        "    plt.ylabel('Actual')\n",
        "\n",
        "    plt.tight_layout()\n",
        "    plt.show()"
      ],
      "metadata": {
        "id": "b1FHsJ9nDFny"
      },
      "execution_count": null,
      "outputs": []
    },
    {
      "cell_type": "code",
      "source": [
        "def calculate_metrics(y_true, y_pred):\n",
        "    precision = precision_score(y_true, y_pred, average='weighted')\n",
        "    recall = recall_score(y_true, y_pred, average='weighted')\n",
        "    f1 = f1_score(y_true, y_pred, average='weighted')\n",
        "    accuracy = accuracy_score(y_true, y_pred)\n",
        "    return precision, recall, f1, accuracy"
      ],
      "metadata": {
        "id": "wLR2vNFyDT16"
      },
      "execution_count": null,
      "outputs": []
    },
    {
      "cell_type": "code",
      "source": [
        "def print_model_performance(model_name, val_metrics, test_metrics):\n",
        "    val_precision, val_recall, val_f1, val_accuracy = val_metrics\n",
        "    test_precision, test_recall, test_f1, test_accuracy = test_metrics\n",
        "\n",
        "    print(f\"\\n{model_name} Validation Performance:\")\n",
        "    print(f\"Accuracy: {val_accuracy:.4f}\")\n",
        "    print(f\"Precision: {val_precision:.4f}\")\n",
        "    print(f\"Recall: {val_recall:.4f}\")\n",
        "    print(f\"F1 Score: {val_f1:.4f}\")\n",
        "\n",
        "    print(f\"\\n{model_name} Test Performance:\")\n",
        "    print(f\"Accuracy: {test_accuracy:.4f}\")\n",
        "    print(f\"Precision: {test_precision:.4f}\")\n",
        "    print(f\"Recall: {test_recall:.4f}\")\n",
        "    print(f\"F1 Score: {test_f1:.4f}\")"
      ],
      "metadata": {
        "id": "vFp1nNOPDV-5"
      },
      "execution_count": null,
      "outputs": []
    },
    {
      "cell_type": "code",
      "source": [
        "X = CE_df.copy(deep=True)\n",
        "y = X['Class_Malware']\n",
        "X = CE_df.drop(columns=[\"Category\", \"Class_Malware\", \"category_name\", \"subcategory_name\"])"
      ],
      "metadata": {
        "id": "ISD0O7kN-KLP"
      },
      "execution_count": null,
      "outputs": []
    },
    {
      "cell_type": "code",
      "source": [
        "def logistic_regression_model(X_train, X_val, X_test, y_train, y_val, y_test):\n",
        "    model = LogisticRegression(max_iter=1000)\n",
        "    model.fit(X_train, y_train)\n",
        "\n",
        "    y_val_pred = model.predict(X_val)\n",
        "    y_test_pred = model.predict(X_test)\n",
        "\n",
        "    val_metrics = calculate_metrics(y_val, y_val_pred)\n",
        "    test_metrics = calculate_metrics(y_test, y_test_pred)\n",
        "    val_conf_matrix = confusion_matrix(y_val, y_val_pred)\n",
        "    test_conf_matrix = confusion_matrix(y_test, y_test_pred)\n",
        "\n",
        "    print_model_performance('Logistic Regression', val_metrics, test_metrics)\n",
        "    plot_confusion_matrices(val_conf_matrix, test_conf_matrix, 'Logistic Regression', model.classes_)"
      ],
      "metadata": {
        "id": "uNZShm1Z-J_o"
      },
      "execution_count": null,
      "outputs": []
    },
    {
      "cell_type": "code",
      "source": [
        "def svm_model(X_train, X_val, X_test, y_train, y_val, y_test):\n",
        "    model = SVC(kernel='linear', random_state=42)\n",
        "    model.fit(X_train, y_train)\n",
        "\n",
        "    y_val_pred = model.predict(X_val)\n",
        "    y_test_pred = model.predict(X_test)\n",
        "\n",
        "    val_metrics = calculate_metrics(y_val, y_val_pred)\n",
        "    test_metrics = calculate_metrics(y_test, y_test_pred)\n",
        "    val_conf_matrix = confusion_matrix(y_val, y_val_pred)\n",
        "    test_conf_matrix = confusion_matrix(y_test, y_test_pred)\n",
        "\n",
        "    print_model_performance('SVM', val_metrics, test_metrics)\n",
        "    plot_confusion_matrices(val_conf_matrix, test_conf_matrix, 'SVM', model.classes_)"
      ],
      "metadata": {
        "id": "p4U9guOs-J8o"
      },
      "execution_count": null,
      "outputs": []
    },
    {
      "cell_type": "code",
      "source": [
        "def random_forest_model(X_train, X_val, X_test, y_train, y_val, y_test):\n",
        "    model = RandomForestClassifier(n_estimators=100, random_state=42)\n",
        "    model.fit(X_train, y_train)\n",
        "\n",
        "    y_val_pred = model.predict(X_val)\n",
        "    y_test_pred = model.predict(X_test)\n",
        "\n",
        "    val_metrics = calculate_metrics(y_val, y_val_pred)\n",
        "    test_metrics = calculate_metrics(y_test, y_test_pred)\n",
        "    val_conf_matrix = confusion_matrix(y_val, y_val_pred)\n",
        "    test_conf_matrix = confusion_matrix(y_test, y_test_pred)\n",
        "\n",
        "    print_model_performance('Random Forest', val_metrics, test_metrics)\n",
        "    plot_confusion_matrices(val_conf_matrix, test_conf_matrix, 'Random Forest', model.classes_)"
      ],
      "metadata": {
        "id": "SUEyKP9mEGXY"
      },
      "execution_count": null,
      "outputs": []
    },
    {
      "cell_type": "code",
      "source": [
        "def gradient_boosting_model(X_train, X_val, X_test, y_train, y_val, y_test):\n",
        "    model = GradientBoostingClassifier(n_estimators=100, learning_rate=1.0, max_depth=1, random_state=42)\n",
        "    model.fit(X_train, y_train)\n",
        "\n",
        "    y_val_pred = model.predict(X_val)\n",
        "    y_test_pred = model.predict(X_test)\n",
        "\n",
        "    val_metrics = calculate_metrics(y_val, y_val_pred)\n",
        "    test_metrics = calculate_metrics(y_test, y_test_pred)\n",
        "    val_conf_matrix = confusion_matrix(y_val, y_val_pred)\n",
        "    test_conf_matrix = confusion_matrix(y_test, y_test_pred)\n",
        "\n",
        "    print_model_performance('Gradient Boosting', val_metrics, test_metrics)\n",
        "    plot_confusion_matrices(val_conf_matrix, test_conf_matrix, 'Gradient Boosting', model.classes_)"
      ],
      "metadata": {
        "id": "vBR6-vGnEGPi"
      },
      "execution_count": null,
      "outputs": []
    },
    {
      "cell_type": "code",
      "source": [
        "def dnn_model(X_train, X_val, X_test, y_train, y_val, y_test):\n",
        "    scaler = StandardScaler()\n",
        "    X_train_scaled = scaler.fit_transform(X_train)\n",
        "    X_val_scaled = scaler.transform(X_val)\n",
        "    X_test_scaled = scaler.transform(X_test)\n",
        "\n",
        "    model = Sequential()\n",
        "    model.add(Dense(128, input_dim=X_train_scaled.shape[1], activation='relu'))\n",
        "    model.add(Dropout(0.5))\n",
        "    model.add(Dense(64, activation='relu'))\n",
        "    model.add(Dropout(0.5))\n",
        "    model.add(Dense(32, activation='relu'))\n",
        "    model.add(Dense(1, activation='sigmoid'))\n",
        "\n",
        "    model.compile(loss='binary_crossentropy', optimizer='adam', metrics=['accuracy'])\n",
        "\n",
        "    early_stopping = EarlyStopping(monitor='val_loss', patience=5, restore_best_weights=True)\n",
        "\n",
        "    history = model.fit(X_train_scaled, y_train, epochs=20, batch_size=32, validation_data=(X_val_scaled, y_val), callbacks=[early_stopping])\n",
        "\n",
        "    y_val_pred = (model.predict(X_val_scaled) > 0.5).astype(\"int32\")\n",
        "    y_test_pred = (model.predict(X_test_scaled) > 0.5).astype(\"int32\")\n",
        "\n",
        "    val_metrics = calculate_metrics(y_val, y_val_pred)\n",
        "    test_metrics = calculate_metrics(y_test, y_test_pred)\n",
        "    val_conf_matrix = confusion_matrix(y_val, y_val_pred)\n",
        "    test_conf_matrix = confusion_matrix(y_test, y_test_pred)\n",
        "\n",
        "    print_model_performance('Deep Neural Network', val_metrics, test_metrics)\n",
        "    plot_confusion_matrices(val_conf_matrix, test_conf_matrix, 'Deep Neural Network', [\"Benign\", \"Malicious\"])\n",
        "\n",
        "    plt.figure(figsize=(12, 4))\n",
        "\n",
        "    plt.subplot(1, 2, 1)\n",
        "    plt.plot(history.history['loss'], label='Training Loss')\n",
        "    plt.plot(history.history['val_loss'], label='Validation Loss')\n",
        "    plt.title('Loss')\n",
        "    plt.xlabel('Epochs')\n",
        "    plt.ylabel('Loss')\n",
        "    plt.legend()\n",
        "\n",
        "    plt.subplot(1, 2, 2)\n",
        "    plt.plot(history.history['accuracy'], label='Training Accuracy')\n",
        "    plt.plot(history.history['val_accuracy'], label='Validation Accuracy')\n",
        "    plt.title('Accuracy')\n",
        "    plt.xlabel('Epochs')\n",
        "    plt.ylabel('Accuracy')\n",
        "    plt.legend()\n",
        "\n",
        "    plt.show()"
      ],
      "metadata": {
        "id": "QkyiVRB_Eu48"
      },
      "execution_count": null,
      "outputs": []
    },
    {
      "cell_type": "code",
      "source": [
        " X_train, X_val, X_test, y_train, y_val, y_test = split_data(X, y)"
      ],
      "metadata": {
        "id": "uAz6GBoi_2z7"
      },
      "execution_count": null,
      "outputs": []
    },
    {
      "cell_type": "code",
      "source": [
        "# Logistic Regression modeli\n",
        "logistic_regression_model(X_train, X_val, X_test, y_train, y_val, y_test)"
      ],
      "metadata": {
        "id": "uB2J2Au1_2tZ"
      },
      "execution_count": null,
      "outputs": []
    },
    {
      "cell_type": "code",
      "source": [
        "# SVM modeli\n",
        "svm_model(X_train, X_val, X_test, y_train, y_val, y_test)"
      ],
      "metadata": {
        "id": "w9DAk6xt_2q1"
      },
      "execution_count": null,
      "outputs": []
    },
    {
      "cell_type": "code",
      "source": [
        "# Random Forest modeli\n",
        "random_forest_model(X_train, X_val, X_test, y_train, y_val, y_test)"
      ],
      "metadata": {
        "id": "6PWkPYTd-J6K"
      },
      "execution_count": null,
      "outputs": []
    },
    {
      "cell_type": "code",
      "source": [
        "# Gradient Boosting modeli\n",
        "gradient_boosting_model(X_train, X_val, X_test, y_train, y_val, y_test)"
      ],
      "metadata": {
        "id": "YCJkdXrs-J3o"
      },
      "execution_count": null,
      "outputs": []
    },
    {
      "cell_type": "code",
      "source": [
        "# DNN modeli\n",
        "dnn_model(X_train, X_val, X_test, y_train, y_val, y_test)"
      ],
      "metadata": {
        "id": "IjriPj7B-JvR"
      },
      "execution_count": null,
      "outputs": []
    },
    {
      "cell_type": "code",
      "execution_count": null,
      "metadata": {
        "id": "YTBXuQsD1E00"
      },
      "outputs": [],
      "source": [
        "X = CE_df.copy(deep=True)\n",
        "y = X['category_name']\n",
        "X = CE_df.drop(columns=[\"Category\", \"Class_Malware\", \"category_name\", \"subcategory_name\"])"
      ]
    },
    {
      "cell_type": "code",
      "source": [
        "def cross_validation_xgb(X_train, X_val, X_test, y_train, y_val, y_test):\n",
        "    param_grid = {\n",
        "        'objective': ['multi:softmax'],\n",
        "        'learning_rate': [0.01, 0.1, 0.2],\n",
        "        'n_estimators': [100, 200, 300],\n",
        "        'max_depth': [3, 5, 8],\n",
        "        'tree_method': ['hist']\n",
        "    }\n",
        "\n",
        "    clf = xgb.XGBClassifier(random_state=42)\n",
        "    grid_search = GridSearchCV(estimator=clf, param_grid=param_grid, cv=3, n_jobs=-1, verbose=2)\n",
        "    grid_search.fit(X_train, y_train)\n",
        "    clf = grid_search.best_estimator_\n",
        "\n",
        "    y_val_pred = clf.predict(X_val)\n",
        "    y_test_pred = clf.predict(X_test)\n",
        "\n",
        "    val_accuracy = accuracy_score(y_val, y_val_pred)\n",
        "    val_report = classification_report(y_val, y_val_pred, output_dict=True)\n",
        "\n",
        "    test_accuracy = accuracy_score(y_test, y_test_pred)\n",
        "    test_report = classification_report(y_test, y_test_pred, output_dict=True)\n",
        "\n",
        "    feature_importances = clf.feature_importances_\n",
        "    importance_df = pd.DataFrame({\n",
        "        'feature': X_train.columns,\n",
        "        'importance': feature_importances\n",
        "    })\n",
        "    importance_df = importance_df.sort_values(by='importance', ascending=False).head(20)\n",
        "\n",
        "    return clf, y_val_pred, y_test_pred, val_accuracy, val_report, test_accuracy, test_report, importance_df"
      ],
      "metadata": {
        "id": "3ZxkENWI5tyJ"
      },
      "execution_count": null,
      "outputs": []
    },
    {
      "cell_type": "code",
      "source": [
        "def cross_validation_dt(X_train, X_val, X_test, y_train, y_val, y_test, important_features):\n",
        "    X_train = X_train[important_features]\n",
        "    X_val = X_val[important_features]\n",
        "    X_test = X_test[important_features]\n",
        "\n",
        "    param_grid = {\n",
        "        'criterion': ['gini', 'log_loss'],\n",
        "        'splitter': ['best', 'random'],\n",
        "        'min_samples_leaf': [100, 200, 300],\n",
        "        'max_depth': [3, 5, 8]\n",
        "    }\n",
        "\n",
        "    clf = DecisionTreeClassifier(random_state=42)\n",
        "    grid_search = GridSearchCV(estimator=clf, param_grid=param_grid, cv=3, n_jobs=-1, verbose=2)\n",
        "    grid_search.fit(X_train, y_train)\n",
        "    clf = grid_search.best_estimator_\n",
        "\n",
        "    y_val_pred = clf.predict(X_val)\n",
        "    y_test_pred = clf.predict(X_test)\n",
        "\n",
        "    val_accuracy = accuracy_score(y_val, y_val_pred)\n",
        "    val_report = classification_report(y_val, y_val_pred, output_dict=True)\n",
        "    val_conf_matrix = confusion_matrix(y_val, y_val_pred)\n",
        "\n",
        "    test_accuracy = accuracy_score(y_test, y_test_pred)\n",
        "    test_report = classification_report(y_test, y_test_pred, output_dict=True)\n",
        "    test_conf_matrix = confusion_matrix(y_test, y_test_pred)\n",
        "\n",
        "    return clf, y_val_pred, val_accuracy, val_report, val_conf_matrix, y_test_pred, test_accuracy, test_report, test_conf_matrix"
      ],
      "metadata": {
        "id": "stqEpsmu7S69"
      },
      "execution_count": null,
      "outputs": []
    },
    {
      "cell_type": "code",
      "source": [
        "def cross_validation_knn(X_train, X_val, X_test, y_train, y_val, y_test, important_features):\n",
        "    X_train = X_train[important_features]\n",
        "    X_val = X_val[important_features]\n",
        "    X_test = X_test[important_features]\n",
        "\n",
        "    param_grid = {\n",
        "        'n_neighbors': [3, 5, 7, 9, 11],\n",
        "        'weights': ['uniform', 'distance'],\n",
        "        'metric': ['euclidean', 'manhattan']\n",
        "    }\n",
        "\n",
        "    clf = KNeighborsClassifier()\n",
        "    grid_search = GridSearchCV(estimator=clf, param_grid=param_grid, cv=3, n_jobs=-1, verbose=2)\n",
        "    grid_search.fit(X_train, y_train)\n",
        "    clf = grid_search.best_estimator_\n",
        "\n",
        "    y_val_pred = clf.predict(X_val)\n",
        "    y_test_pred = clf.predict(X_test)\n",
        "\n",
        "    val_accuracy = accuracy_score(y_val, y_val_pred)\n",
        "    val_report = classification_report(y_val, y_val_pred, output_dict=True)\n",
        "    val_conf_matrix = confusion_matrix(y_val, y_val_pred)\n",
        "\n",
        "    test_accuracy = accuracy_score(y_test, y_test_pred)\n",
        "    test_report = classification_report(y_test, y_test_pred, output_dict=True)\n",
        "    test_conf_matrix = confusion_matrix(y_test, y_test_pred)\n",
        "\n",
        "    return clf, y_val_pred, val_accuracy, val_report, val_conf_matrix, y_test_pred, test_accuracy, test_report, test_conf_matrix\n"
      ],
      "metadata": {
        "id": "fBoqYSnx51iw"
      },
      "execution_count": null,
      "outputs": []
    },
    {
      "cell_type": "code",
      "source": [
        "def cross_validation_rf(X_train, X_val, X_test, y_train, y_val, y_test, important_features):\n",
        "    X_train = X_train[important_features]\n",
        "    X_val = X_val[important_features]\n",
        "    X_test = X_test[important_features]\n",
        "\n",
        "    param_grid = {\n",
        "        'n_estimators': [100, 200, 300],\n",
        "        'max_depth': [3, 5, 8, 10],\n",
        "        'min_samples_split': [2, 5, 10],\n",
        "        'min_samples_leaf': [1, 2, 4],\n",
        "        'bootstrap': [True, False]\n",
        "    }\n",
        "\n",
        "    clf = RandomForestClassifier(random_state=42)\n",
        "    grid_search = GridSearchCV(estimator=clf, param_grid=param_grid, cv=3, n_jobs=-1, verbose=2)\n",
        "    grid_search.fit(X_train, y_train)\n",
        "    clf = grid_search.best_estimator_\n",
        "\n",
        "    y_val_pred = clf.predict(X_val)\n",
        "    y_test_pred = clf.predict(X_test)\n",
        "\n",
        "    val_accuracy = accuracy_score(y_val, y_val_pred)\n",
        "    val_report = classification_report(y_val, y_val_pred, output_dict=True)\n",
        "    val_conf_matrix = confusion_matrix(y_val, y_val_pred)\n",
        "\n",
        "    test_accuracy = accuracy_score(y_test, y_test_pred)\n",
        "    test_report = classification_report(y_test, y_test_pred, output_dict=True)\n",
        "    test_conf_matrix = confusion_matrix(y_test, y_test_pred)\n",
        "\n",
        "    return clf, y_val_pred, val_accuracy, val_report, val_conf_matrix, y_test_pred, test_accuracy, test_report, test_conf_matrix"
      ],
      "metadata": {
        "id": "w9hl58t956ZG"
      },
      "execution_count": null,
      "outputs": []
    },
    {
      "cell_type": "code",
      "source": [
        "#Split data for 4 class classification\n",
        "X_train, X_val, X_test, y_train, y_val, y_test = split_data(X, y)"
      ],
      "metadata": {
        "id": "GXe7ovvl59h_"
      },
      "execution_count": null,
      "outputs": []
    },
    {
      "cell_type": "code",
      "source": [
        "#XGBoost Classifier\n",
        "clf_xgb, y_val_pred_xgb, y_test_pred_xgb, val_accuracy_xgb, val_report_xgb, test_accuracy_xgb, test_report_xgb, importance_df = cross_validation_xgb(X_train, X_val, X_test, y_train, y_val, y_test)"
      ],
      "metadata": {
        "id": "SYTTz1Ut5_a4"
      },
      "execution_count": null,
      "outputs": []
    },
    {
      "cell_type": "code",
      "source": [
        "print_classification_report(\"XGBoost\", val_accuracy_xgb, val_report_xgb, test_accuracy_xgb, test_report_xgb)"
      ],
      "metadata": {
        "id": "9l9eUNWT6Ltl"
      },
      "execution_count": null,
      "outputs": []
    },
    {
      "cell_type": "code",
      "source": [
        "important_features = importance_df['feature'].tolist()"
      ],
      "metadata": {
        "id": "4MV_PNBR6D0H"
      },
      "execution_count": null,
      "outputs": []
    },
    {
      "cell_type": "code",
      "source": [
        "#Decision Tree Classifier\n",
        "clf, y_val_pred, val_accuracy_dt, val_report_dt, val_conf_matrix, y_test_pred, test_accuracy_dt, test_report_dt, test_conf_matrix = cross_validation_dt(X_train, X_val, X_test, y_train, y_val, y_test, important_features)"
      ],
      "metadata": {
        "id": "rptRlpgs7X8d"
      },
      "execution_count": null,
      "outputs": []
    },
    {
      "cell_type": "code",
      "source": [
        "print_classification_report(\"Decision Tree\", val_accuracy_dt, val_report_dt, test_accuracy_dt, test_report_dt)"
      ],
      "metadata": {
        "id": "9CaOTcop7jmH"
      },
      "execution_count": null,
      "outputs": []
    },
    {
      "cell_type": "code",
      "source": [
        "#Random Forest Classifier\n",
        "clf_rf, y_val_pred_rf, val_accuracy_rf, val_report_rf, val_conf_matrix_rf, y_test_pred_rf, test_accuracy_rf, test_report_rf, test_conf_matrix_rf = cross_validation_rf(X_train, X_val, X_test, y_train, y_val, y_test, important_features)\n"
      ],
      "metadata": {
        "id": "hXx3Dk0f6KKZ"
      },
      "execution_count": null,
      "outputs": []
    },
    {
      "cell_type": "code",
      "source": [
        "print_classification_report(\"Random Forest\", val_accuracy_rf, val_report_rf, test_accuracy_rf, test_report_rf)"
      ],
      "metadata": {
        "id": "14YML3AC6mId"
      },
      "execution_count": null,
      "outputs": []
    },
    {
      "cell_type": "code",
      "source": [
        "#KNN Classifier\n",
        "clf_knn, y_val_pred_knn, val_accuracy_knn, val_report_knn, val_conf_matrix_knn, y_test_pred_knn, test_accuracy_knn, test_report_knn, test_conf_matrix_knn = cross_validation_knn(X_train, X_val, X_test, y_train, y_val, y_test, important_features)\n"
      ],
      "metadata": {
        "id": "JtDfCKAw6G-3"
      },
      "execution_count": null,
      "outputs": []
    },
    {
      "cell_type": "code",
      "source": [
        "print_classification_report(\"KNN\", val_accuracy_knn, val_report_knn, test_accuracy_knn, test_report_knn)"
      ],
      "metadata": {
        "id": "cIaDmzaa6k0V"
      },
      "execution_count": null,
      "outputs": []
    },
    {
      "cell_type": "code",
      "execution_count": null,
      "metadata": {
        "id": "gMjflmtAnnAv"
      },
      "outputs": [],
      "source": [
        "# 16 Class Classification\n",
        "X = CE_df.copy(deep=True)\n",
        "y = X['subcategory_name']\n",
        "X = CE_df.drop(columns=[\"Category\", \"Class_Malware\", \"category_name\", \"subcategory_name\"])"
      ]
    },
    {
      "cell_type": "code",
      "source": [
        "X_train, X_val, X_test, y_train, y_val, y_test = split_data(X, y)"
      ],
      "metadata": {
        "id": "adj8BRW789vU"
      },
      "execution_count": null,
      "outputs": []
    },
    {
      "cell_type": "code",
      "source": [
        "#XGBoost Classifier\n",
        "clf_xgb, y_val_pred_xgb, y_test_pred_xgb, val_accuracy_xgb, val_report_xgb, test_accuracy_xgb, test_report_xgb, importance_df = cross_validation_xgb(X_train, X_val, X_test, y_train, y_val, y_test)"
      ],
      "metadata": {
        "id": "kW18WtWF8yFR"
      },
      "execution_count": null,
      "outputs": []
    },
    {
      "cell_type": "code",
      "source": [
        "print_classification_report(\"XGBoost\", val_accuracy_xgb, val_report_xgb, test_accuracy_xgb, test_report_xgb)"
      ],
      "metadata": {
        "id": "mGwDrOFB8x3Z"
      },
      "execution_count": null,
      "outputs": []
    },
    {
      "cell_type": "code",
      "source": [
        "#Decision Tree Classifier\n",
        "clf, y_val_pred, val_accuracy_dt, val_report_dt, val_conf_matrix, y_test_pred, test_accuracy_dt, test_report_dt, test_conf_matrix = cross_validation_dt(X_train, X_val, X_test, y_train, y_val, y_test, important_features)"
      ],
      "metadata": {
        "id": "R7czRnv78x03"
      },
      "execution_count": null,
      "outputs": []
    },
    {
      "cell_type": "code",
      "source": [
        "print_classification_report(\"Decision Tree\", val_accuracy_dt, val_report_dt, test_accuracy_dt, test_report_dt)"
      ],
      "metadata": {
        "id": "otEk3MC38xyk"
      },
      "execution_count": null,
      "outputs": []
    },
    {
      "cell_type": "code",
      "source": [
        "#Random Forest Classifier\n",
        "clf_rf, y_val_pred_rf, val_accuracy_rf, val_report_rf, val_conf_matrix_rf, y_test_pred_rf, test_accuracy_rf, test_report_rf, test_conf_matrix_rf = cross_validation_rf(X_train, X_val, X_test, y_train, y_val, y_test, important_features)\n"
      ],
      "metadata": {
        "id": "WtOsktqo8xwb"
      },
      "execution_count": null,
      "outputs": []
    },
    {
      "cell_type": "code",
      "source": [
        "print_classification_report(\"Random Forest\", val_accuracy_rf, val_report_rf, test_accuracy_rf, test_report_rf)"
      ],
      "metadata": {
        "id": "lsnySW_N8xuF"
      },
      "execution_count": null,
      "outputs": []
    },
    {
      "cell_type": "code",
      "source": [
        "#KNN Classifier\n",
        "clf_knn, y_val_pred_knn, val_accuracy_knn, val_report_knn, val_conf_matrix_knn, y_test_pred_knn, test_accuracy_knn, test_report_knn, test_conf_matrix_knn = cross_validation_knn(X_train, X_val, X_test, y_train, y_val, y_test, important_features)\n"
      ],
      "metadata": {
        "id": "vcic7eKD8xrt"
      },
      "execution_count": null,
      "outputs": []
    },
    {
      "cell_type": "code",
      "source": [
        "print_classification_report(\"KNN\", val_accuracy_knn, val_report_knn, test_accuracy_knn, test_report_knn)"
      ],
      "metadata": {
        "id": "zOd6iycj8xnM"
      },
      "execution_count": null,
      "outputs": []
    }
  ],
  "metadata": {
    "accelerator": "GPU",
    "colab": {
      "gpuType": "T4",
      "provenance": []
    },
    "kernelspec": {
      "display_name": "Python 3",
      "name": "python3"
    },
    "language_info": {
      "name": "python"
    }
  },
  "nbformat": 4,
  "nbformat_minor": 0
}